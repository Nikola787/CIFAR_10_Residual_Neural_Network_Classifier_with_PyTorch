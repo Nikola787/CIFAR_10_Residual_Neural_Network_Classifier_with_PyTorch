{
  "nbformat": 4,
  "nbformat_minor": 0,
  "metadata": {
    "colab": {
      "provenance": []
    },
    "kernelspec": {
      "name": "python3",
      "display_name": "Python 3"
    },
    "language_info": {
      "name": "python"
    },
    "widgets": {
      "application/vnd.jupyter.widget-state+json": {
        "6994bb8416b74f35881b2fe253130c68": {
          "model_module": "@jupyter-widgets/controls",
          "model_name": "HBoxModel",
          "model_module_version": "1.5.0",
          "state": {
            "_dom_classes": [],
            "_model_module": "@jupyter-widgets/controls",
            "_model_module_version": "1.5.0",
            "_model_name": "HBoxModel",
            "_view_count": null,
            "_view_module": "@jupyter-widgets/controls",
            "_view_module_version": "1.5.0",
            "_view_name": "HBoxView",
            "box_style": "",
            "children": [
              "IPY_MODEL_7dfd128a44a14d5c91bb493deeda8d29",
              "IPY_MODEL_2a45df9975304c149acc09e8632c857d",
              "IPY_MODEL_485cf105ff7543eaaa0a183f3ca3d696"
            ],
            "layout": "IPY_MODEL_1e75bda920dd49008e523f460c1740ac"
          }
        },
        "7dfd128a44a14d5c91bb493deeda8d29": {
          "model_module": "@jupyter-widgets/controls",
          "model_name": "HTMLModel",
          "model_module_version": "1.5.0",
          "state": {
            "_dom_classes": [],
            "_model_module": "@jupyter-widgets/controls",
            "_model_module_version": "1.5.0",
            "_model_name": "HTMLModel",
            "_view_count": null,
            "_view_module": "@jupyter-widgets/controls",
            "_view_module_version": "1.5.0",
            "_view_name": "HTMLView",
            "description": "",
            "description_tooltip": null,
            "layout": "IPY_MODEL_0fb2cd81e9e04dd5a7f619ccbcfedafb",
            "placeholder": "​",
            "style": "IPY_MODEL_7a15d13471ec4d0eb45c41a4b9d93805",
            "value": "100%"
          }
        },
        "2a45df9975304c149acc09e8632c857d": {
          "model_module": "@jupyter-widgets/controls",
          "model_name": "FloatProgressModel",
          "model_module_version": "1.5.0",
          "state": {
            "_dom_classes": [],
            "_model_module": "@jupyter-widgets/controls",
            "_model_module_version": "1.5.0",
            "_model_name": "FloatProgressModel",
            "_view_count": null,
            "_view_module": "@jupyter-widgets/controls",
            "_view_module_version": "1.5.0",
            "_view_name": "ProgressView",
            "bar_style": "success",
            "description": "",
            "description_tooltip": null,
            "layout": "IPY_MODEL_b3442d94547b4ea9a38d0f71e25fdd0d",
            "max": 170498071,
            "min": 0,
            "orientation": "horizontal",
            "style": "IPY_MODEL_1ca2b3ab57a64928be9c1675a0cdc131",
            "value": 170498071
          }
        },
        "485cf105ff7543eaaa0a183f3ca3d696": {
          "model_module": "@jupyter-widgets/controls",
          "model_name": "HTMLModel",
          "model_module_version": "1.5.0",
          "state": {
            "_dom_classes": [],
            "_model_module": "@jupyter-widgets/controls",
            "_model_module_version": "1.5.0",
            "_model_name": "HTMLModel",
            "_view_count": null,
            "_view_module": "@jupyter-widgets/controls",
            "_view_module_version": "1.5.0",
            "_view_name": "HTMLView",
            "description": "",
            "description_tooltip": null,
            "layout": "IPY_MODEL_42b5f9723b6e42caa50035eeb13a6b00",
            "placeholder": "​",
            "style": "IPY_MODEL_d243d63553c54f62995fba35505940bb",
            "value": " 170498071/170498071 [00:04&lt;00:00, 40797162.84it/s]"
          }
        },
        "1e75bda920dd49008e523f460c1740ac": {
          "model_module": "@jupyter-widgets/base",
          "model_name": "LayoutModel",
          "model_module_version": "1.2.0",
          "state": {
            "_model_module": "@jupyter-widgets/base",
            "_model_module_version": "1.2.0",
            "_model_name": "LayoutModel",
            "_view_count": null,
            "_view_module": "@jupyter-widgets/base",
            "_view_module_version": "1.2.0",
            "_view_name": "LayoutView",
            "align_content": null,
            "align_items": null,
            "align_self": null,
            "border": null,
            "bottom": null,
            "display": null,
            "flex": null,
            "flex_flow": null,
            "grid_area": null,
            "grid_auto_columns": null,
            "grid_auto_flow": null,
            "grid_auto_rows": null,
            "grid_column": null,
            "grid_gap": null,
            "grid_row": null,
            "grid_template_areas": null,
            "grid_template_columns": null,
            "grid_template_rows": null,
            "height": null,
            "justify_content": null,
            "justify_items": null,
            "left": null,
            "margin": null,
            "max_height": null,
            "max_width": null,
            "min_height": null,
            "min_width": null,
            "object_fit": null,
            "object_position": null,
            "order": null,
            "overflow": null,
            "overflow_x": null,
            "overflow_y": null,
            "padding": null,
            "right": null,
            "top": null,
            "visibility": null,
            "width": null
          }
        },
        "0fb2cd81e9e04dd5a7f619ccbcfedafb": {
          "model_module": "@jupyter-widgets/base",
          "model_name": "LayoutModel",
          "model_module_version": "1.2.0",
          "state": {
            "_model_module": "@jupyter-widgets/base",
            "_model_module_version": "1.2.0",
            "_model_name": "LayoutModel",
            "_view_count": null,
            "_view_module": "@jupyter-widgets/base",
            "_view_module_version": "1.2.0",
            "_view_name": "LayoutView",
            "align_content": null,
            "align_items": null,
            "align_self": null,
            "border": null,
            "bottom": null,
            "display": null,
            "flex": null,
            "flex_flow": null,
            "grid_area": null,
            "grid_auto_columns": null,
            "grid_auto_flow": null,
            "grid_auto_rows": null,
            "grid_column": null,
            "grid_gap": null,
            "grid_row": null,
            "grid_template_areas": null,
            "grid_template_columns": null,
            "grid_template_rows": null,
            "height": null,
            "justify_content": null,
            "justify_items": null,
            "left": null,
            "margin": null,
            "max_height": null,
            "max_width": null,
            "min_height": null,
            "min_width": null,
            "object_fit": null,
            "object_position": null,
            "order": null,
            "overflow": null,
            "overflow_x": null,
            "overflow_y": null,
            "padding": null,
            "right": null,
            "top": null,
            "visibility": null,
            "width": null
          }
        },
        "7a15d13471ec4d0eb45c41a4b9d93805": {
          "model_module": "@jupyter-widgets/controls",
          "model_name": "DescriptionStyleModel",
          "model_module_version": "1.5.0",
          "state": {
            "_model_module": "@jupyter-widgets/controls",
            "_model_module_version": "1.5.0",
            "_model_name": "DescriptionStyleModel",
            "_view_count": null,
            "_view_module": "@jupyter-widgets/base",
            "_view_module_version": "1.2.0",
            "_view_name": "StyleView",
            "description_width": ""
          }
        },
        "b3442d94547b4ea9a38d0f71e25fdd0d": {
          "model_module": "@jupyter-widgets/base",
          "model_name": "LayoutModel",
          "model_module_version": "1.2.0",
          "state": {
            "_model_module": "@jupyter-widgets/base",
            "_model_module_version": "1.2.0",
            "_model_name": "LayoutModel",
            "_view_count": null,
            "_view_module": "@jupyter-widgets/base",
            "_view_module_version": "1.2.0",
            "_view_name": "LayoutView",
            "align_content": null,
            "align_items": null,
            "align_self": null,
            "border": null,
            "bottom": null,
            "display": null,
            "flex": null,
            "flex_flow": null,
            "grid_area": null,
            "grid_auto_columns": null,
            "grid_auto_flow": null,
            "grid_auto_rows": null,
            "grid_column": null,
            "grid_gap": null,
            "grid_row": null,
            "grid_template_areas": null,
            "grid_template_columns": null,
            "grid_template_rows": null,
            "height": null,
            "justify_content": null,
            "justify_items": null,
            "left": null,
            "margin": null,
            "max_height": null,
            "max_width": null,
            "min_height": null,
            "min_width": null,
            "object_fit": null,
            "object_position": null,
            "order": null,
            "overflow": null,
            "overflow_x": null,
            "overflow_y": null,
            "padding": null,
            "right": null,
            "top": null,
            "visibility": null,
            "width": null
          }
        },
        "1ca2b3ab57a64928be9c1675a0cdc131": {
          "model_module": "@jupyter-widgets/controls",
          "model_name": "ProgressStyleModel",
          "model_module_version": "1.5.0",
          "state": {
            "_model_module": "@jupyter-widgets/controls",
            "_model_module_version": "1.5.0",
            "_model_name": "ProgressStyleModel",
            "_view_count": null,
            "_view_module": "@jupyter-widgets/base",
            "_view_module_version": "1.2.0",
            "_view_name": "StyleView",
            "bar_color": null,
            "description_width": ""
          }
        },
        "42b5f9723b6e42caa50035eeb13a6b00": {
          "model_module": "@jupyter-widgets/base",
          "model_name": "LayoutModel",
          "model_module_version": "1.2.0",
          "state": {
            "_model_module": "@jupyter-widgets/base",
            "_model_module_version": "1.2.0",
            "_model_name": "LayoutModel",
            "_view_count": null,
            "_view_module": "@jupyter-widgets/base",
            "_view_module_version": "1.2.0",
            "_view_name": "LayoutView",
            "align_content": null,
            "align_items": null,
            "align_self": null,
            "border": null,
            "bottom": null,
            "display": null,
            "flex": null,
            "flex_flow": null,
            "grid_area": null,
            "grid_auto_columns": null,
            "grid_auto_flow": null,
            "grid_auto_rows": null,
            "grid_column": null,
            "grid_gap": null,
            "grid_row": null,
            "grid_template_areas": null,
            "grid_template_columns": null,
            "grid_template_rows": null,
            "height": null,
            "justify_content": null,
            "justify_items": null,
            "left": null,
            "margin": null,
            "max_height": null,
            "max_width": null,
            "min_height": null,
            "min_width": null,
            "object_fit": null,
            "object_position": null,
            "order": null,
            "overflow": null,
            "overflow_x": null,
            "overflow_y": null,
            "padding": null,
            "right": null,
            "top": null,
            "visibility": null,
            "width": null
          }
        },
        "d243d63553c54f62995fba35505940bb": {
          "model_module": "@jupyter-widgets/controls",
          "model_name": "DescriptionStyleModel",
          "model_module_version": "1.5.0",
          "state": {
            "_model_module": "@jupyter-widgets/controls",
            "_model_module_version": "1.5.0",
            "_model_name": "DescriptionStyleModel",
            "_view_count": null,
            "_view_module": "@jupyter-widgets/base",
            "_view_module_version": "1.2.0",
            "_view_name": "StyleView",
            "description_width": ""
          }
        }
      }
    }
  },
  "cells": [
    {
      "cell_type": "code",
      "execution_count": null,
      "metadata": {
        "id": "aGnSulMuWJkV"
      },
      "outputs": [],
      "source": [
        "import torch\n",
        "import torchvision\n",
        "import torchvision.transforms as transforms\n",
        "from torch.utils.data import random_split, DataLoader"
      ]
    },
    {
      "cell_type": "code",
      "source": [
        "data_statistics = ((0.5, 0.5, 0.5), (0.5, 0.5, 0.5))\n",
        "\n",
        "train_transforms_cifar = transforms.Compose([\n",
        "    transforms.RandomCrop(32, padding=4, padding_mode='reflect'), \n",
        "    transforms.RandomHorizontalFlip(), \n",
        "    transforms.ToTensor(),\n",
        "    transforms.Normalize(*data_statistics, inplace=True) \n",
        "])\n",
        "\n",
        "test_transforms_cifar = transforms.Compose([\n",
        "    transforms.ToTensor(),\n",
        "    transforms.Normalize(*data_statistics, inplace=True) \n",
        "])\n",
        "\n",
        "dataset = torchvision.datasets.CIFAR10(root=\"data/\", download=True, train=False, transform=train_transforms_cifar)\n",
        "test_dataset = torchvision.datasets.CIFAR10(root=\"data/\", download=True, train=False, transform=test_transforms_cifar)"
      ],
      "metadata": {
        "colab": {
          "base_uri": "https://localhost:8080/",
          "height": 101,
          "referenced_widgets": [
            "6994bb8416b74f35881b2fe253130c68",
            "7dfd128a44a14d5c91bb493deeda8d29",
            "2a45df9975304c149acc09e8632c857d",
            "485cf105ff7543eaaa0a183f3ca3d696",
            "1e75bda920dd49008e523f460c1740ac",
            "0fb2cd81e9e04dd5a7f619ccbcfedafb",
            "7a15d13471ec4d0eb45c41a4b9d93805",
            "b3442d94547b4ea9a38d0f71e25fdd0d",
            "1ca2b3ab57a64928be9c1675a0cdc131",
            "42b5f9723b6e42caa50035eeb13a6b00",
            "d243d63553c54f62995fba35505940bb"
          ]
        },
        "id": "wrhB8L5JWLDx",
        "outputId": "61921ab2-e251-4dfc-af6f-b52ab371ca70"
      },
      "execution_count": null,
      "outputs": [
        {
          "output_type": "stream",
          "name": "stdout",
          "text": [
            "Downloading https://www.cs.toronto.edu/~kriz/cifar-10-python.tar.gz to data/cifar-10-python.tar.gz\n"
          ]
        },
        {
          "output_type": "display_data",
          "data": {
            "text/plain": [
              "  0%|          | 0/170498071 [00:00<?, ?it/s]"
            ],
            "application/vnd.jupyter.widget-view+json": {
              "version_major": 2,
              "version_minor": 0,
              "model_id": "6994bb8416b74f35881b2fe253130c68"
            }
          },
          "metadata": {}
        },
        {
          "output_type": "stream",
          "name": "stdout",
          "text": [
            "Extracting data/cifar-10-python.tar.gz to data/\n",
            "Files already downloaded and verified\n"
          ]
        }
      ]
    },
    {
      "cell_type": "code",
      "source": [
        "val_ratio = 0.2\n",
        "train_dataset, val_dataset = random_split(dataset, [int((1-val_ratio)*len(dataset)), int(val_ratio*len(dataset))])\n",
        "\n",
        "batch_size = 32 \n",
        "train_dl = DataLoader(train_dataset, batch_size, shuffle=True, pin_memory=True) \n",
        "val_dl = DataLoader(val_dataset, batch_size, pin_memory=True) \n",
        "test_dl = DataLoader(test_dataset, batch_size, pin_memory=True)"
      ],
      "metadata": {
        "id": "kfAIpWGEWLGI"
      },
      "execution_count": null,
      "outputs": []
    },
    {
      "cell_type": "code",
      "source": [
        "def get_default_device():\n",
        "    return torch.device(\"cuda\") if torch.cuda.is_available else torch.device(\"cpu\")\n",
        "\n",
        "def to_device(entity, device):\n",
        "    if isinstance(entity, (list, tuple)):\n",
        "        return [to_device(elem, device) for elem in entity]\n",
        "    return entity.to(device, non_blocking=True)\n",
        "\n",
        "class DeviceDataLoader():\n",
        "    def __init__(self, dataloader, device):\n",
        "        self.dl = dataloader\n",
        "        self.device = device\n",
        "        \n",
        "    def __iter__(self):\n",
        "        for b in self.dl:\n",
        "            yield to_device(b, self.device)\n",
        "            \n",
        "    def __len__(self):\n",
        "        return len(self.dl)\n",
        "    \n",
        "device = get_default_device()\n",
        "train_dl = DeviceDataLoader(train_dl, device)\n",
        "val_dl = DeviceDataLoader(val_dl, device)\n",
        "test_dl = DeviceDataLoader(test_dl, device)\n"
      ],
      "metadata": {
        "id": "LibsupD9WLKv"
      },
      "execution_count": null,
      "outputs": []
    },
    {
      "cell_type": "code",
      "source": [
        "import torch.nn as nn\n",
        "from collections import OrderedDict\n",
        "\n",
        "def conv_block(in_channels, out_channels, pool=False):\n",
        "    layers=[nn.Conv2d(in_channels, out_channels, kernel_size=3, padding=1),\n",
        "            nn.BatchNorm2d(out_channels), \n",
        "            nn.ReLU(inplace=True)]\n",
        "    if pool:\n",
        "        layers.append(nn.MaxPool2d(2))\n",
        "    return nn.Sequential(*layers)\n",
        "\n",
        "\n",
        "class ResnetX(nn.Module):\n",
        "    def __init__(self, in_channels, num_classes):\n",
        "        super().__init__()\n",
        "\n",
        "        self.conv1 = conv_block(in_channels, 64)\n",
        "        self.conv2 = conv_block(64, 128, pool=True)\n",
        "        self.res1 = nn.Sequential(OrderedDict([(\"conv1res1\", conv_block(128, 128)), (\"conv2res1\", conv_block(128, 128))]))\n",
        "\n",
        "        self.conv3 = conv_block(128, 256, pool=True)\n",
        "        self.conv4 = conv_block(256, 512, pool=True)\n",
        "        self.res2 = nn.Sequential(conv_block(512, 512), conv_block(512, 512))\n",
        "    \n",
        "        self.classifier = nn.Sequential(nn.MaxPool2d(4),\n",
        "                                        nn.Flatten(), \n",
        "                                        nn.Dropout(0.2),\n",
        "                                        nn.Linear(512, num_classes))\n",
        "    \n",
        "    def forward(self, x):\n",
        "        out = self.conv1(x)\n",
        "        out = self.conv2(out)\n",
        "        out = self.res1(out) + out\n",
        "        out = self.conv3(out)\n",
        "        out = self.conv4(out)\n",
        "        out = self.res2(out) + out\n",
        "        return self.classifier(out)\n",
        "        "
      ],
      "metadata": {
        "id": "aelPzpd1WLNA"
      },
      "execution_count": null,
      "outputs": []
    },
    {
      "cell_type": "code",
      "source": [
        "model = ResnetX(3, 10)\n",
        "model\n",
        "[x.shape for x in model.res1.parameters()]"
      ],
      "metadata": {
        "colab": {
          "base_uri": "https://localhost:8080/"
        },
        "id": "XxLqDKuxWLPX",
        "outputId": "e7059a2b-16ec-4fbe-de1f-a3311e286414"
      },
      "execution_count": null,
      "outputs": [
        {
          "output_type": "execute_result",
          "data": {
            "text/plain": [
              "[torch.Size([128, 128, 3, 3]),\n",
              " torch.Size([128]),\n",
              " torch.Size([128]),\n",
              " torch.Size([128]),\n",
              " torch.Size([128, 128, 3, 3]),\n",
              " torch.Size([128]),\n",
              " torch.Size([128]),\n",
              " torch.Size([128])]"
            ]
          },
          "metadata": {},
          "execution_count": 6
        }
      ]
    },
    {
      "cell_type": "code",
      "source": [
        "def accuracy(logits, labels):\n",
        "    pred, predClassId = torch.max(logits, dim=1) \n",
        "    return torch.tensor(torch.sum(predClassId==labels).item() / len(logits))\n",
        "\n",
        "def evaluate(model, dl, loss_func):\n",
        "    model.eval()\n",
        "    batch_losses, batch_accs = [], []\n",
        "    for images, labels in dl:\n",
        "        with torch.no_grad():\n",
        "            logits = model(images)\n",
        "        batch_losses.append(loss_func(logits, labels))\n",
        "        batch_accs.append(accuracy(logits, labels))\n",
        "    epoch_avg_loss = torch.stack(batch_losses).mean().item()\n",
        "    epoch_avg_acc = torch.stack(batch_accs).mean()\n",
        "    return epoch_avg_loss, epoch_avg_acc\n",
        "\n",
        "def train(model, train_dl, val_dl, epochs, max_lr, loss_func, optim):\n",
        "    optimizer = optim(model.parameters(), max_lr)\n",
        "    scheduler = torch.optim.lr_scheduler.OneCycleLR(optimizer, max_lr, epochs*len(train_dl))\n",
        "\n",
        "    results = []\n",
        "    lrs = []\n",
        "    for epoch in range(epochs):\n",
        "        model.train()\n",
        "        train_losses = []\n",
        "        lrs = []\n",
        "        for images, labels in train_dl:\n",
        "            logits = model(images)\n",
        "            loss = loss_func(logits, labels)\n",
        "            train_losses.append(loss)\n",
        "            loss.backward()\n",
        "            optimizer.step()\n",
        "            optimizer.zero_grad()\n",
        "            lrs.append(optimizer.param_groups[0][\"lr\"])\n",
        "            scheduler.step()\n",
        "        epoch_train_loss = torch.stack(train_losses).mean().item()\n",
        "            \n",
        "        epoch_avg_loss, epoch_avg_acc = evaluate(model, val_dl, loss_func) \n",
        "        results.append({\"avg_valid_loss\": epoch_avg_loss, \"avg_valid_acc\": epoch_avg_acc, \"avg_train_loss\": epoch_train_loss, \"lr\": lrs})\n",
        "    \n",
        "    return results"
      ],
      "metadata": {
        "id": "EGDqlWrlWTyI"
      },
      "execution_count": null,
      "outputs": []
    },
    {
      "cell_type": "code",
      "source": [
        "model = to_device(model, device)\n",
        "epochs = 50\n",
        "max_lr = 1e-2\n",
        "loss_func = nn.functional.cross_entropy\n",
        "optim = torch.optim.Adam"
      ],
      "metadata": {
        "id": "zpmEZqvKWT0q"
      },
      "execution_count": null,
      "outputs": []
    },
    {
      "cell_type": "code",
      "source": [
        "results = train(model, train_dl, val_dl, epochs, max_lr, loss_func, optim)"
      ],
      "metadata": {
        "id": "YYuPZ-90WT26"
      },
      "execution_count": null,
      "outputs": []
    },
    {
      "cell_type": "code",
      "source": [
        "for result in results:\n",
        "  print(result[\"avg_valid_acc\"])"
      ],
      "metadata": {
        "id": "9f22EC_TWT5I"
      },
      "execution_count": null,
      "outputs": []
    },
    {
      "cell_type": "code",
      "source": [
        "def plot(results, pairs):\n",
        "    import matplotlib.pyplot as plt\n",
        "    fig, axes = plt.subplots(len(pairs), figsize=(10,10))\n",
        "    for i, pair in enumerate(pairs):\n",
        "      for title, graphs in pair.items():\n",
        "        axes[i].set_title = title\n",
        "        axes[i].legend = graphs\n",
        "        for graph in graphs:\n",
        "            axes[i].plot([result[graph] for result in results], '-x')\n",
        "\n",
        "plot(results, [{\"Accuracies vs epochs\": [\"avg_valid_acc\"]}, {\"Losses vs epochs\":[\"avg_valid_loss\", \"avg_train_loss\"]}, {\"Learning rates vs batches\": [\"lr\"]}])"
      ],
      "metadata": {
        "id": "ssZkSsMyWT7Z"
      },
      "execution_count": null,
      "outputs": []
    },
    {
      "cell_type": "code",
      "source": [
        "_, test_acc = evaluate(model, test_dl, loss_func) \n",
        "print(test_acc)\n",
        "\n",
        "torch.save(model.state_dict(), \"cifar10.pth\") \n",
        "model2 = to_device(ResnetX(3, 10), device)\n",
        "_, test_acc = evaluate(model2, test_dl, loss_func) \n",
        "print(test_acc)\n",
        "\n",
        "model2.load_state_dict(torch.load(\"cifar10.pth\"))\n",
        "_, test_acc = evaluate(model2, test_dl, loss_func) \n",
        "print(test_acc)"
      ],
      "metadata": {
        "id": "h0nphyczWLRu"
      },
      "execution_count": null,
      "outputs": []
    }
  ]
}